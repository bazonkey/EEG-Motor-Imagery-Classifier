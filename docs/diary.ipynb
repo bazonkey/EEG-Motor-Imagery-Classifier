{
 "cells": [
  {
   "cell_type": "markdown",
   "id": "7f6652f6-3353-4d0f-9cd3-61e1223c467b",
   "metadata": {},
   "source": [
    "# Questions To Answer\n",
    "* What is motor imagery?\n",
    "* Where in the brain does it happen?\n",
    "* How does EEG detect it?"
   ]
  },
  {
   "cell_type": "markdown",
   "id": "302abc94-4202-40e0-a082-65d991ed3743",
   "metadata": {},
   "source": [
    "## How do BCIs work?\n",
    "src: https://www.youtube.com/watch?v=7ExYVjAROq0\n",
    "### Notes\n",
    "Mostly used in medical fields currently. The benefits to invasive brain surgeries better be good! non-invasive BCIs, unfortunately, can be semi-useless for real-world use, due to the small signals being parsed.\n",
    "\n",
    "Three main components:\n",
    "* physical hardware that collects signals\n",
    "* software component that processes data into something a computer can use\n",
    "* generation of an action in a computer/machine\n",
    "\n",
    "There is a lot of noise when trying to capture BCI signals from nervous system/neurons. Even a heartbeat can disrupt the reading of the signal.\n",
    "\n",
    "**Filtering Signals**\n",
    "Band-Stop Filter -- used to remove a specific frequency band from the data.\n",
    "ex.) notch filter: removing powerline noise from neurological data\n",
    "\n",
    "Most large-scale BCIs need to use machine learning, trained on data from the individual attempting the action.\n",
    "\n",
    "**Important Bits**: frequency of brain waves, and timing of brain waves.\n",
    "\n",
    "Time series: useful for determining when an event has occurred, or predicting when one will take place. (AKA time domain)\n",
    "\n",
    "Frequency domain: which rates certain groups of neurons are firing within the brain\n",
    "\n",
    "These domains help us to understand how the brain works through brain wave frequencies.\n",
    "\n",
    "#### Types of Brain Waves\n",
    "gamma(32-100 Hz), beta(13-32 Hz), alpha(8-13 Hz), theta(4-8 Hz), delta(0.5-4 Hz)\n",
    "\n",
    "Neural snyc/desync: groups of neurons firing together display a condition, such as being at rest. desync from that frequency is an interruption in the condition.\n",
    "\n",
    "**Synchronous vs Asynchronous BCIs**\n",
    "sync: relies on unconscious signals. async: relies on signals that are consciously evoked. (or self-paced)\n",
    "\n",
    "**Motor Imagery**: mental visualization of one's body part moving."
   ]
  }
 ],
 "metadata": {
  "kernelspec": {
   "display_name": "Python 3 (ipykernel)",
   "language": "python",
   "name": "python3"
  },
  "language_info": {
   "codemirror_mode": {
    "name": "ipython",
    "version": 3
   },
   "file_extension": ".py",
   "mimetype": "text/x-python",
   "name": "python",
   "nbconvert_exporter": "python",
   "pygments_lexer": "ipython3",
   "version": "3.13.7"
  }
 },
 "nbformat": 4,
 "nbformat_minor": 5
}
